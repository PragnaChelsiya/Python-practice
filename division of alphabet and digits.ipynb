{
 "cells": [
  {
   "cell_type": "code",
   "execution_count": 5,
   "id": "0a18abd4-7b97-4c37-8921-3f713eedf94c",
   "metadata": {},
   "outputs": [
    {
     "name": "stdin",
     "output_type": "stream",
     "text": [
      " bca2024b\n"
     ]
    },
    {
     "name": "stdout",
     "output_type": "stream",
     "text": [
      "Alphabet: 4\n",
      "Digit: 4\n"
     ]
    }
   ],
   "source": [
    " text = str(input())\n",
    "digit= alphabet =0\n",
    "\n",
    "for i in text:\n",
    "    if i.isalpha():\n",
    "        alphabet+=1\n",
    "    elif i.isdigit():\n",
    "        digit+=1\n",
    "\n",
    "print(\"Alphabet:\",alphabet)\n",
    "print(\"Digit:\",digit)"
   ]
  },
  {
   "cell_type": "code",
   "execution_count": null,
   "id": "557b4f84-a98d-4cd8-a9c7-a5c28a958b20",
   "metadata": {},
   "outputs": [],
   "source": []
  }
 ],
 "metadata": {
  "kernelspec": {
   "display_name": "Python 3 (ipykernel)",
   "language": "python",
   "name": "python3"
  },
  "language_info": {
   "codemirror_mode": {
    "name": "ipython",
    "version": 3
   },
   "file_extension": ".py",
   "mimetype": "text/x-python",
   "name": "python",
   "nbconvert_exporter": "python",
   "pygments_lexer": "ipython3",
   "version": "3.12.4"
  }
 },
 "nbformat": 4,
 "nbformat_minor": 5
}
