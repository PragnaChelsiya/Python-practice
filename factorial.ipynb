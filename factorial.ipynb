{
 "cells": [
  {
   "cell_type": "code",
   "execution_count": 7,
   "id": "34bd6ced-6c9d-4c9b-a93b-40be72326988",
   "metadata": {},
   "outputs": [
    {
     "name": "stdin",
     "output_type": "stream",
     "text": [
      " 5\n"
     ]
    },
    {
     "name": "stdout",
     "output_type": "stream",
     "text": [
      "120\n"
     ]
    }
   ],
   "source": [
    "n=int(input())\n",
    "fact=1\n",
    "for i in range(1,n+1):\n",
    "    fact*=i\n",
    "    \n",
    "print(fact)\n",
    "    "
   ]
  },
  {
   "cell_type": "code",
   "execution_count": 27,
   "id": "9adcdb3a-3e0c-497d-ab12-a5f265d12816",
   "metadata": {},
   "outputs": [
    {
     "name": "stdin",
     "output_type": "stream",
     "text": [
      " 0\n"
     ]
    },
    {
     "name": "stdout",
     "output_type": "stream",
     "text": [
      "1\n"
     ]
    }
   ],
   "source": [
    "n=int(input())\n",
    "fact=1\n",
    "for i in range(n+1):\n",
    "    fact*=1\n",
    "print(fact)\n",
    "    "
   ]
  },
  {
   "cell_type": "code",
   "execution_count": 29,
   "id": "44901eb2-c206-460c-bcb8-8109d3f884a3",
   "metadata": {},
   "outputs": [
    {
     "name": "stdin",
     "output_type": "stream",
     "text": [
      " 5\n"
     ]
    },
    {
     "name": "stdout",
     "output_type": "stream",
     "text": [
      "120\n"
     ]
    }
   ],
   "source": [
    "n=int(input())\n",
    "fact = 1\n",
    "while 1<=n:\n",
    "  fact*=n\n",
    "  n-=1\n",
    "print(fact)"
   ]
  },
  {
   "cell_type": "code",
   "execution_count": 31,
   "id": "5fcfb00a-febf-4823-8e90-919e7cc8b2fe",
   "metadata": {},
   "outputs": [
    {
     "name": "stdin",
     "output_type": "stream",
     "text": [
      " 5\n"
     ]
    },
    {
     "name": "stdout",
     "output_type": "stream",
     "text": [
      "120\n"
     ]
    }
   ],
   "source": [
    "n=int(input())\n",
    "fact = 1\n",
    "while 1<=n:\n",
    "  fact*=n\n",
    "  n-=1\n",
    "print(fact)"
   ]
  },
  {
   "cell_type": "code",
   "execution_count": null,
   "id": "9c24f0f0-b03b-4807-be18-534e5186561e",
   "metadata": {},
   "outputs": [],
   "source": []
  }
 ],
 "metadata": {
  "kernelspec": {
   "display_name": "Python 3 (ipykernel)",
   "language": "python",
   "name": "python3"
  },
  "language_info": {
   "codemirror_mode": {
    "name": "ipython",
    "version": 3
   },
   "file_extension": ".py",
   "mimetype": "text/x-python",
   "name": "python",
   "nbconvert_exporter": "python",
   "pygments_lexer": "ipython3",
   "version": "3.12.4"
  }
 },
 "nbformat": 4,
 "nbformat_minor": 5
}
