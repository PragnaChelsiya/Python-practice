{
 "cells": [
  {
   "cell_type": "code",
   "execution_count": 15,
   "id": "c4806dbe-ef20-42c4-ab7e-7324a7f7a2fd",
   "metadata": {},
   "outputs": [
    {
     "name": "stdin",
     "output_type": "stream",
     "text": [
      " jessy\n"
     ]
    },
    {
     "name": "stdout",
     "output_type": "stream",
     "text": [
      "yssej\n"
     ]
    }
   ],
   "source": [
    "text = str(input())\n",
    "\n",
    "rev_text=\"\"\n",
    "for j in text:\n",
    " rev_text=j+rev_text\n",
    "print(rev_text)"
   ]
  },
  {
   "cell_type": "code",
   "execution_count": 21,
   "id": "7169f640-e8dc-4faa-ae5b-6f6afabd9048",
   "metadata": {},
   "outputs": [
    {
     "name": "stdin",
     "output_type": "stream",
     "text": [
      " malayalam\n"
     ]
    },
    {
     "name": "stdout",
     "output_type": "stream",
     "text": [
      "malayalam\n",
      "palindrome\n"
     ]
    }
   ],
   "source": [
    "text = str(input())\n",
    "\n",
    "rev_text=\"\"\n",
    "for j in text:\n",
    " rev_text=j+rev_text\n",
    "print(rev_text)\n",
    "if text == rev_text:\n",
    "    print(\"palindrome\")\n",
    "else:\n",
    "    print(\"not palindrome\")"
   ]
  },
  {
   "cell_type": "code",
   "execution_count": null,
   "id": "cd47d276-014b-41ea-aeca-32dd0c1b2006",
   "metadata": {},
   "outputs": [],
   "source": [
    "text = str(input())\n",
    "\n",
    "rev_text=\"\"\n",
    "while \n",
    " "
   ]
  }
 ],
 "metadata": {
  "kernelspec": {
   "display_name": "Python 3 (ipykernel)",
   "language": "python",
   "name": "python3"
  },
  "language_info": {
   "codemirror_mode": {
    "name": "ipython",
    "version": 3
   },
   "file_extension": ".py",
   "mimetype": "text/x-python",
   "name": "python",
   "nbconvert_exporter": "python",
   "pygments_lexer": "ipython3",
   "version": "3.12.4"
  }
 },
 "nbformat": 4,
 "nbformat_minor": 5
}
