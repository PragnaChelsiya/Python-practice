{
 "cells": [
  {
   "cell_type": "code",
   "execution_count": 7,
   "id": "7555ddd8-88a3-49da-b1ed-e7a45653a063",
   "metadata": {},
   "outputs": [
    {
     "name": "stdout",
     "output_type": "stream",
     "text": [
      "[]\n"
     ]
    }
   ],
   "source": [
    "###tuple\n",
    "empty_tuple=[]\n",
    "print(empty_tuple)"
   ]
  },
  {
   "cell_type": "code",
   "execution_count": 9,
   "id": "9d5d157a-46f0-485b-a45e-e530f0d6fb79",
   "metadata": {},
   "outputs": [
    {
     "name": "stdout",
     "output_type": "stream",
     "text": [
      "(26, 45, 32)\n"
     ]
    }
   ],
   "source": [
    "value_tuple=26,45,32\n",
    "print(value_tuple)"
   ]
  },
  {
   "cell_type": "code",
   "execution_count": 11,
   "id": "e52041b5-9f3f-4eb5-9d67-6eff768864e0",
   "metadata": {},
   "outputs": [
    {
     "name": "stdout",
     "output_type": "stream",
     "text": [
      "(26, 45, 'hello')\n"
     ]
    }
   ],
   "source": [
    "value_tuple=26,45,'hello'\n",
    "print(value_tuple)"
   ]
  },
  {
   "cell_type": "code",
   "execution_count": 21,
   "id": "a4fa4037-7dde-404f-aa14-1e8700de4303",
   "metadata": {},
   "outputs": [
    {
     "name": "stdout",
     "output_type": "stream",
     "text": [
      "hello\n"
     ]
    },
    {
     "data": {
      "text/plain": [
       "str"
      ]
     },
     "execution_count": 21,
     "metadata": {},
     "output_type": "execute_result"
    }
   ],
   "source": [
    "Tuple=('hello')\n",
    "print(Tuple)\n",
    "type(Tuple)"
   ]
  },
  {
   "cell_type": "code",
   "execution_count": 23,
   "id": "565da601-ea15-4305-aea9-2fbb04c430e9",
   "metadata": {},
   "outputs": [
    {
     "name": "stdout",
     "output_type": "stream",
     "text": [
      "('hello',)\n"
     ]
    },
    {
     "data": {
      "text/plain": [
       "tuple"
      ]
     },
     "execution_count": 23,
     "metadata": {},
     "output_type": "execute_result"
    }
   ],
   "source": [
    "Tuple=('hello',)\n",
    "print(Tuple)\n",
    "type(Tuple)"
   ]
  },
  {
   "cell_type": "code",
   "execution_count": 27,
   "id": "2c943d55-abcd-4ee4-8cdd-0ca55594ec40",
   "metadata": {},
   "outputs": [
    {
     "ename": "TypeError",
     "evalue": "'tuple' object does not support item assignment",
     "output_type": "error",
     "traceback": [
      "\u001b[1;31m---------------------------------------------------------------------------\u001b[0m",
      "\u001b[1;31mTypeError\u001b[0m                                 Traceback (most recent call last)",
      "Cell \u001b[1;32mIn[27], line 2\u001b[0m\n\u001b[0;32m      1\u001b[0m value_tuple\u001b[38;5;241m=\u001b[39m(\u001b[38;5;241m26\u001b[39m,\u001b[38;5;241m45\u001b[39m,\u001b[38;5;124m'\u001b[39m\u001b[38;5;124mhello\u001b[39m\u001b[38;5;124m'\u001b[39m)\n\u001b[1;32m----> 2\u001b[0m value_tuple[\u001b[38;5;241m1\u001b[39m]\u001b[38;5;241m=\u001b[39m\u001b[38;5;241m7\u001b[39m\n\u001b[0;32m      3\u001b[0m \u001b[38;5;28mprint\u001b[39m(value_tuple)\n",
      "\u001b[1;31mTypeError\u001b[0m: 'tuple' object does not support item assignment"
     ]
    }
   ],
   "source": [
    "value_tuple=(26,45,'hello')\n",
    "value_tuple[1]=7\n",
    "print(value_tuple)"
   ]
  },
  {
   "cell_type": "code",
   "execution_count": 33,
   "id": "a0453c13-cf38-4a34-80d9-5bb1e20e3647",
   "metadata": {},
   "outputs": [
    {
     "name": "stdout",
     "output_type": "stream",
     "text": [
      "(23, 45, 'hello', 1, 2, 3, 'python')\n"
     ]
    }
   ],
   "source": [
    "###concatenation\n",
    "value1_tuple=(23,45,'hello')\n",
    "value2_tuple=1,2,3,\"python\"\n",
    "print(value1_tuple+value2_tuple)"
   ]
  },
  {
   "cell_type": "code",
   "execution_count": 45,
   "id": "9a6e8cf9-d040-4db4-a524-4253c47b22ef",
   "metadata": {},
   "outputs": [
    {
     "name": "stdout",
     "output_type": "stream",
     "text": [
      "((2, 33, 'hello'), (4, 5.6, 'python'))\n"
     ]
    }
   ],
   "source": [
    "##nesting of tuples\n",
    "value1_tuple=(2,33,'hello')\n",
    "value2_tuple=4,5.6,\"python\"\n",
    "value3_tuple=value1_tuple,value2_tuple\n",
    "print(value3_tuple)"
   ]
  },
  {
   "cell_type": "code",
   "execution_count": 47,
   "id": "60bed2d6-d81b-4d79-884a-58c533b04e97",
   "metadata": {},
   "outputs": [
    {
     "name": "stdout",
     "output_type": "stream",
     "text": [
      "(26, 45, 'hello', 26, 45, 'hello')\n"
     ]
    }
   ],
   "source": [
    "##repeatation in tuple\n",
    "value_tuple=(26,45,'hello')*2\n",
    "print(value_tuple)"
   ]
  },
  {
   "cell_type": "code",
   "execution_count": 51,
   "id": "ec0ee32f-4046-4ebf-b6b3-f874676e4b25",
   "metadata": {},
   "outputs": [
    {
     "name": "stdout",
     "output_type": "stream",
     "text": [
      "4.6\n"
     ]
    }
   ],
   "source": [
    "value_tuple=(26,45,'hello',4.6)\n",
    "print(value_tuple[3])"
   ]
  },
  {
   "cell_type": "code",
   "execution_count": 53,
   "id": "b06d73d6-0cdf-4b59-958c-5e5f4f2d80fc",
   "metadata": {},
   "outputs": [
    {
     "name": "stdout",
     "output_type": "stream",
     "text": [
      "('hello', 4.6)\n"
     ]
    }
   ],
   "source": [
    "value_tuple=(26,45,'hello',4.6)\n",
    "print(value_tuple[2:])"
   ]
  },
  {
   "cell_type": "code",
   "execution_count": 55,
   "id": "f6a74b2f-bbde-4279-9d33-f61e0bffe348",
   "metadata": {},
   "outputs": [
    {
     "name": "stdout",
     "output_type": "stream",
     "text": [
      "(26, 45, 'hello')\n"
     ]
    }
   ],
   "source": [
    "value_tuple=(26,45,'hello',4.6)\n",
    "print(value_tuple[:3])"
   ]
  },
  {
   "cell_type": "code",
   "execution_count": 57,
   "id": "0fca55b8-4cfb-4f22-9120-2c780683bbd7",
   "metadata": {},
   "outputs": [
    {
     "name": "stdout",
     "output_type": "stream",
     "text": [
      "(26, 45, 'hello', 4.6)\n"
     ]
    }
   ],
   "source": [
    "value_tuple=(26,45,'hello',4.6)\n",
    "print(value_tuple[0:])"
   ]
  },
  {
   "cell_type": "code",
   "execution_count": 59,
   "id": "fcd80aa2-7b0e-4d6d-957c-7b5a9c8ff962",
   "metadata": {},
   "outputs": [
    {
     "name": "stdout",
     "output_type": "stream",
     "text": [
      "(26, 45, 'hello', 4.6, 'p', 4, 8.7)\n"
     ]
    }
   ],
   "source": [
    "value_tuple=(26,45,'hello',4.6,'p',4,8.7)\n",
    "print(value_tuple[:7])"
   ]
  },
  {
   "cell_type": "code",
   "execution_count": 65,
   "id": "d3629fd7-fdf6-41d2-83e1-ffd89f4707ef",
   "metadata": {},
   "outputs": [
    {
     "name": "stdout",
     "output_type": "stream",
     "text": [
      "8.7\n"
     ]
    }
   ],
   "source": [
    "value_tuple=(26,45,'hello',4.6,'p',4,8.7)\n",
    "print(value_tuple[-1])"
   ]
  },
  {
   "cell_type": "code",
   "execution_count": 67,
   "id": "fb826b28-05ac-4d77-892c-943624d36718",
   "metadata": {},
   "outputs": [
    {
     "name": "stdout",
     "output_type": "stream",
     "text": [
      "(26, 45, 'hello')\n"
     ]
    }
   ],
   "source": [
    "value_tuple=(26,45,'hello',4.6,'p',4,8.7)\n",
    "print(value_tuple[:-4])"
   ]
  },
  {
   "cell_type": "code",
   "execution_count": 69,
   "id": "0d405dd6-1c2d-44dd-b6a1-fdd207bd96a1",
   "metadata": {},
   "outputs": [
    {
     "name": "stdout",
     "output_type": "stream",
     "text": [
      "(26, 45, 'hello')\n"
     ]
    }
   ],
   "source": [
    "value_tuple=(26,45,'hello',4.6,'p',4,8.7)\n",
    "print(value_tuple[:-4:])"
   ]
  },
  {
   "cell_type": "code",
   "execution_count": 71,
   "id": "1e323b1f-1e07-4332-a068-6cf0e2d8345c",
   "metadata": {},
   "outputs": [
    {
     "name": "stdout",
     "output_type": "stream",
     "text": [
      "(26, 45, 'hello', 4.6, 'p', 4)\n"
     ]
    }
   ],
   "source": [
    "value_tuple=(26,45,'hello',4.6,'p',4,8.7)\n",
    "print(value_tuple[:-1])"
   ]
  },
  {
   "cell_type": "code",
   "execution_count": 73,
   "id": "94e73af6-d117-44c1-8886-50caa401a404",
   "metadata": {},
   "outputs": [
    {
     "name": "stdout",
     "output_type": "stream",
     "text": [
      "(8.7, 'p', 'hello', 26)\n"
     ]
    }
   ],
   "source": [
    "value_tuple=(26,45,'hello',4.6,'p',4,8.7)\n",
    "print(value_tuple[::-2])"
   ]
  },
  {
   "cell_type": "code",
   "execution_count": 77,
   "id": "49ac3436-7069-447a-acef-819f4c6c46db",
   "metadata": {},
   "outputs": [
    {
     "name": "stdout",
     "output_type": "stream",
     "text": [
      "(8.7, 4.6, 26)\n"
     ]
    }
   ],
   "source": [
    "value_tuple=(26,45,'hello',4.6,'p',4,8.7)\n",
    "print(value_tuple[::-3])"
   ]
  },
  {
   "cell_type": "code",
   "execution_count": 79,
   "id": "29e8f4eb-e82b-4fb6-8253-cf5f44f79ac8",
   "metadata": {},
   "outputs": [
    {
     "name": "stdout",
     "output_type": "stream",
     "text": [
      "('p', 4, 8.7)\n"
     ]
    }
   ],
   "source": [
    "value_tuple=(26,45,'hello',4.6,'p',4,8.7)\n",
    "print(value_tuple[-3::])"
   ]
  },
  {
   "cell_type": "code",
   "execution_count": 81,
   "id": "53c9aedd-99d5-492d-a7d3-af2a0179df6b",
   "metadata": {},
   "outputs": [
    {
     "name": "stdout",
     "output_type": "stream",
     "text": [
      "(26, 'hello', 'p', 8.7)\n"
     ]
    }
   ],
   "source": [
    "value_tuple=(26,45,'hello',4.6,'p',4,8.7)\n",
    "print(value_tuple[::2])"
   ]
  },
  {
   "cell_type": "code",
   "execution_count": 83,
   "id": "e53a316d-d838-46ea-bbe9-81fb080162dd",
   "metadata": {},
   "outputs": [
    {
     "name": "stdout",
     "output_type": "stream",
     "text": [
      "(45, 'hello', 4.6)\n"
     ]
    }
   ],
   "source": [
    "value_tuple=(26,45,'hello',4.6,'p',4,8.7)\n",
    "print(value_tuple[1:4])"
   ]
  },
  {
   "cell_type": "code",
   "execution_count": 85,
   "id": "f3c8fcab-5f27-4cb5-a052-732ba1c6d175",
   "metadata": {},
   "outputs": [
    {
     "name": "stdout",
     "output_type": "stream",
     "text": [
      "(45, 'hello', 4.6, 'p', 4, 8.7)\n"
     ]
    }
   ],
   "source": [
    "value_tuple=(26,45,'hello',4.6,'p',4,8.7)\n",
    "print(value_tuple[1::1])"
   ]
  },
  {
   "cell_type": "code",
   "execution_count": 87,
   "id": "42cf573e-5798-4098-93dd-ec22f273e7ca",
   "metadata": {},
   "outputs": [
    {
     "name": "stdout",
     "output_type": "stream",
     "text": [
      "(8.7, 'p', 'hello', 26)\n"
     ]
    }
   ],
   "source": [
    "value_tuple=(26,45,'hello',4.6,'p',4,8.7)\n",
    "print(value_tuple[-1::-2])"
   ]
  },
  {
   "cell_type": "code",
   "execution_count": 89,
   "id": "1496b0f8-e8c4-4ed1-9dad-ddb6b1ed24bd",
   "metadata": {},
   "outputs": [
    {
     "name": "stdout",
     "output_type": "stream",
     "text": [
      "(45, 4.6, 4)\n"
     ]
    }
   ],
   "source": [
    "value_tuple=(26,45,'hello',4.6,'p',4,8.7)\n",
    "print(value_tuple[1:6:2])"
   ]
  },
  {
   "cell_type": "code",
   "execution_count": 91,
   "id": "59941f1e-de55-4c6d-9489-804ee63fc22a",
   "metadata": {},
   "outputs": [
    {
     "name": "stdout",
     "output_type": "stream",
     "text": [
      "(45,)\n"
     ]
    }
   ],
   "source": [
    "value_tuple=(26,45,'hello',4.6,'p',4,8.7)\n",
    "print(value_tuple[1:3:2])"
   ]
  },
  {
   "cell_type": "code",
   "execution_count": 95,
   "id": "d27fc517-73a1-450d-bbc1-e2e95538fd27",
   "metadata": {},
   "outputs": [
    {
     "ename": "TypeError",
     "evalue": "'tuple' object doesn't support item deletion",
     "output_type": "error",
     "traceback": [
      "\u001b[1;31m---------------------------------------------------------------------------\u001b[0m",
      "\u001b[1;31mTypeError\u001b[0m                                 Traceback (most recent call last)",
      "Cell \u001b[1;32mIn[95], line 2\u001b[0m\n\u001b[0;32m      1\u001b[0m value_tuple\u001b[38;5;241m=\u001b[39m(\u001b[38;5;241m26\u001b[39m,\u001b[38;5;241m45\u001b[39m,\u001b[38;5;124m'\u001b[39m\u001b[38;5;124mhello\u001b[39m\u001b[38;5;124m'\u001b[39m,\u001b[38;5;241m4.6\u001b[39m,\u001b[38;5;124m'\u001b[39m\u001b[38;5;124mp\u001b[39m\u001b[38;5;124m'\u001b[39m,\u001b[38;5;241m4\u001b[39m,\u001b[38;5;241m8.7\u001b[39m)\n\u001b[1;32m----> 2\u001b[0m \u001b[38;5;28;01mdel\u001b[39;00m(value_tuple[\u001b[38;5;241m1\u001b[39m])\n\u001b[0;32m      3\u001b[0m \u001b[38;5;28mprint\u001b[39m(value_tuple)\n",
      "\u001b[1;31mTypeError\u001b[0m: 'tuple' object doesn't support item deletion"
     ]
    }
   ],
   "source": [
    "value_tuple=(26,45,'hello',4.6,'p',4,8.7)\n",
    "del(value_tuple[1]) ##we cannot do one\n",
    "print(value_tuple)"
   ]
  },
  {
   "cell_type": "code",
   "execution_count": 99,
   "id": "b83e44ba-581b-4c3f-82ee-dacb6d6c6f53",
   "metadata": {},
   "outputs": [
    {
     "ename": "TypeError",
     "evalue": "'tuple' object doesn't support item deletion",
     "output_type": "error",
     "traceback": [
      "\u001b[1;31m---------------------------------------------------------------------------\u001b[0m",
      "\u001b[1;31mTypeError\u001b[0m                                 Traceback (most recent call last)",
      "Cell \u001b[1;32mIn[99], line 2\u001b[0m\n\u001b[0;32m      1\u001b[0m value_tuple\u001b[38;5;241m=\u001b[39m(\u001b[38;5;241m26\u001b[39m,\u001b[38;5;241m45\u001b[39m,\u001b[38;5;124m'\u001b[39m\u001b[38;5;124mhello\u001b[39m\u001b[38;5;124m'\u001b[39m,\u001b[38;5;241m4.6\u001b[39m,\u001b[38;5;124m'\u001b[39m\u001b[38;5;124mp\u001b[39m\u001b[38;5;124m'\u001b[39m,\u001b[38;5;241m4\u001b[39m,\u001b[38;5;241m8.7\u001b[39m)\n\u001b[1;32m----> 2\u001b[0m \u001b[38;5;28;01mdel\u001b[39;00m(value_tuple[\u001b[38;5;241m1\u001b[39m])\n",
      "\u001b[1;31mTypeError\u001b[0m: 'tuple' object doesn't support item deletion"
     ]
    }
   ],
   "source": [
    "value_tuple=(26,45,'hello',4.6,'p',4,8.7)\n",
    "del(value_tuple[1]) \n",
    "print(value_tuple)"
   ]
  },
  {
   "cell_type": "code",
   "execution_count": null,
   "id": "b8dc52c1-130e-4319-bc28-083fbb37756a",
   "metadata": {},
   "outputs": [],
   "source": []
  }
 ],
 "metadata": {
  "kernelspec": {
   "display_name": "Python 3 (ipykernel)",
   "language": "python",
   "name": "python3"
  },
  "language_info": {
   "codemirror_mode": {
    "name": "ipython",
    "version": 3
   },
   "file_extension": ".py",
   "mimetype": "text/x-python",
   "name": "python",
   "nbconvert_exporter": "python",
   "pygments_lexer": "ipython3",
   "version": "3.12.4"
  }
 },
 "nbformat": 4,
 "nbformat_minor": 5
}
