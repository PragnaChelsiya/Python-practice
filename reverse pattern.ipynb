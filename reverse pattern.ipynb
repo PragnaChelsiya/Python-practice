{
 "cells": [
  {
   "cell_type": "code",
   "execution_count": 9,
   "id": "87c1f0bf-ab21-4e28-a58f-94995a5c15d6",
   "metadata": {},
   "outputs": [
    {
     "name": "stdout",
     "output_type": "stream",
     "text": [
      "1 2 3 4 5 6 7  \n",
      "1 2 3 4 5  \n",
      "1 2 3  \n",
      "1  \n"
     ]
    }
   ],
   "source": [
    "rows = 7\n",
    "# Loop over number of rows \n",
    "for i in range(rows+1, 0, -2):\n",
    "    \n",
    "    # Nested reverse loop for columns\n",
    "    for j in range(0, i-1):\n",
    "        \n",
    "        # Display pattern\n",
    "        print(j+1, end='')\n",
    "    print(\" \")"
   ]
  },
  {
   "cell_type": "code",
   "execution_count": null,
   "id": "2079805d-22e5-41b8-ae19-b2bdaf117845",
   "metadata": {},
   "outputs": [],
   "source": []
  }
 ],
 "metadata": {
  "kernelspec": {
   "display_name": "Python 3 (ipykernel)",
   "language": "python",
   "name": "python3"
  },
  "language_info": {
   "codemirror_mode": {
    "name": "ipython",
    "version": 3
   },
   "file_extension": ".py",
   "mimetype": "text/x-python",
   "name": "python",
   "nbconvert_exporter": "python",
   "pygments_lexer": "ipython3",
   "version": "3.12.4"
  }
 },
 "nbformat": 4,
 "nbformat_minor": 5
}
