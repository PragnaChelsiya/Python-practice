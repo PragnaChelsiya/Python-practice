{
 "cells": [
  {
   "cell_type": "code",
   "execution_count": 13,
   "id": "d57b146c-f90e-47ee-afac-f9d63101f21d",
   "metadata": {},
   "outputs": [
    {
     "name": "stdin",
     "output_type": "stream",
     "text": [
      " 5\n",
      " 3\n",
      " 4\n",
      " 5\n",
      " 6\n",
      " 54\n"
     ]
    },
    {
     "name": "stdout",
     "output_type": "stream",
     "text": [
      "5\n"
     ]
    }
   ],
   "source": [
    "n= int(input())\n",
    "list1=[]\n",
    "for i in range(0,n):\n",
    "    value=int(input())\n",
    "    list1.append(value)\n",
    "e=(set(list1))\n",
    "print(len(e))"
   ]
  },
  {
   "cell_type": "code",
   "execution_count": null,
   "id": "be7b6104-51cb-48af-b521-aa62df349ac7",
   "metadata": {},
   "outputs": [],
   "source": [
    "n=int(input())\n"
   ]
  }
 ],
 "metadata": {
  "kernelspec": {
   "display_name": "Python 3 (ipykernel)",
   "language": "python",
   "name": "python3"
  },
  "language_info": {
   "codemirror_mode": {
    "name": "ipython",
    "version": 3
   },
   "file_extension": ".py",
   "mimetype": "text/x-python",
   "name": "python",
   "nbconvert_exporter": "python",
   "pygments_lexer": "ipython3",
   "version": "3.12.4"
  }
 },
 "nbformat": 4,
 "nbformat_minor": 5
}
