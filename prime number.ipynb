{
 "cells": [
  {
   "cell_type": "code",
   "execution_count": 19,
   "id": "ce333efd-a6ac-4d73-b9ac-8c37dfb7cb18",
   "metadata": {},
   "outputs": [
    {
     "name": "stdin",
     "output_type": "stream",
     "text": [
      " 12\n"
     ]
    },
    {
     "name": "stdout",
     "output_type": "stream",
     "text": [
      "12 is not a prime number.\n"
     ]
    }
   ],
   "source": [
    "num=int(input())\n",
    "count=0\n",
    "for i in range(1,num+1):\n",
    "     if num % i ==0:\n",
    "         count+=1\n",
    "if count ==2:\n",
    "    print(num,\"is a prime number.\")\n",
    "else:\n",
    "    print(num,\"is not a prime number.\")"
   ]
  },
  {
   "cell_type": "code",
   "execution_count": null,
   "id": "3d2a7657-c720-4877-bbe9-30d6cb1b0288",
   "metadata": {},
   "outputs": [],
   "source": []
  }
 ],
 "metadata": {
  "kernelspec": {
   "display_name": "Python 3 (ipykernel)",
   "language": "python",
   "name": "python3"
  },
  "language_info": {
   "codemirror_mode": {
    "name": "ipython",
    "version": 3
   },
   "file_extension": ".py",
   "mimetype": "text/x-python",
   "name": "python",
   "nbconvert_exporter": "python",
   "pygments_lexer": "ipython3",
   "version": "3.12.4"
  }
 },
 "nbformat": 4,
 "nbformat_minor": 5
}
